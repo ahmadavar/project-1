{
 "cells": [
  {
   "cell_type": "markdown",
   "metadata": {},
   "source": [
    "<img src=\"http://imgur.com/1ZcRyrc.png\" style=\"float: left; margin: 20px; height: 55px\">\n",
    "\n",
    "# Project 1: World Development Statistics"
   ]
  },
  {
   "cell_type": "markdown",
   "metadata": {},
   "source": [
    "--- \n",
    "# Part 1\n",
    "\n",
    "Part 1 requires knowledge of basic Python.\n",
    "\n",
    "---"
   ]
  },
  {
   "cell_type": "markdown",
   "metadata": {},
   "source": [
    "## Problem Statement"
   ]
  },
  {
   "cell_type": "markdown",
   "metadata": {},
   "source": [
    "Decide on your problem statement that will guide your analysis for this project. For guidelines, sample prompts, or inspiration, check out the README.\n",
    "\n",
    "**To-Do:** *Replace this cell with your problem statement.*"
   ]
  },
  {
   "cell_type": "markdown",
   "metadata": {},
   "source": [
    "### Contents:\n",
    "- [Background](#Background)\n",
    "- [Data Import & Cleaning](#Data-Import-and-Cleaning)\n",
    "- [Exploratory Data Analysis](#Exploratory-Data-Analysis)\n",
    "- [Data Visualization](#Visualize-the-Data)\n",
    "- [Conclusions and Recommendations](#Conclusions-and-Recommendations)"
   ]
  },
  {
   "cell_type": "markdown",
   "metadata": {},
   "source": [
    "## Background"
   ]
  },
  {
   "cell_type": "markdown",
   "metadata": {},
   "source": [
    "For our first project, we're going to take a look at World Development Statistics from [Gapminder](https://www.gapminder.org/about/), an independent Swedish foundation that aims to make data about the world more accessible and reliable. A good introduction on Gapminder is this [Ted Talk](https://www.ted.com/talks/hans_rosling_the_best_stats_you_ve_ever_seen) from Hans Rosling, which also shows how effective data visualization can be for your audience."
   ]
  },
  {
   "cell_type": "markdown",
   "metadata": {},
   "source": [
    "**To-Do:** *Fill out this cell (or edit the above cell) with any other background or information that is necessary for your problem statement.*"
   ]
  },
  {
   "cell_type": "markdown",
   "metadata": {},
   "source": [
    "### Choose your Data\n",
    "\n",
    "There are 3 datasets included in the [`data`](./data/) folder for this project. You are required to pick **at least two** of these to complete your analysis. Feel free to use more than two if you would like, or add other relevant datasets you find online. \n",
    "\n",
    "**HINT: There are more datasets available on the Gapminder website**\n",
    "\n",
    "* [`population.csv`](./data/population.csv): Population by Country\n",
    "* [`life_expectancy.csv`](./data/life_expectancy.csv): Life Expectancy by Country\n",
    "* [`gni_per_cap_atlas_method_con2021.csv`](./data/gni_per_cap_atlas_method_con2021.csv): Gross National Income (GNI) per capita in current US dollars"
   ]
  },
  {
   "cell_type": "markdown",
   "metadata": {},
   "source": [
    "**To-Do:** *Fill out this cell with the datasets you will use for your analysis. Write a brief description of the contents for each dataset that you choose.*"
   ]
  },
  {
   "cell_type": "markdown",
   "metadata": {},
   "source": [
    "### Outside Research"
   ]
  },
  {
   "cell_type": "markdown",
   "metadata": {},
   "source": [
    "Based on your problem statement and your chosen datasets, spend some time doing outside research on state policies or additional information that might be relevant. Summarize your findings below. If you bring in any outside tables or charts, make sure you are explicit about having borrowed them. If you quote any text, make sure that it renders as being quoted. **Make sure that you cite your sources.**"
   ]
  },
  {
   "cell_type": "markdown",
   "metadata": {},
   "source": [
    "**To-Do:** *Fill out this cell with outside research or any additional background information that will support your analysis.*"
   ]
  },
  {
   "cell_type": "markdown",
   "metadata": {},
   "source": [
    "### Coding Challenges\n",
    "\n",
    "1. Manually calculate mean:\n",
    "\n",
    "    Write a function that takes in values and returns the mean of the values. Create a list of numbers that you test on your function to check to make sure your function works!\n",
    "    \n",
    "    *Note*: Do not use any mean methods built-in to any Python libraries to do this! This should be done without importing any additional libraries."
   ]
  },
  {
   "cell_type": "code",
   "execution_count": 6,
   "metadata": {},
   "outputs": [
    {
     "name": "stdout",
     "output_type": "stream",
     "text": [
      "Requirement already up-to-date: pandas in /opt/anaconda3/lib/python3.8/site-packages (2.0.3)\n",
      "Requirement already up-to-date: numpy in /opt/anaconda3/lib/python3.8/site-packages (1.24.4)\n",
      "Requirement already up-to-date: matplotlib in /opt/anaconda3/lib/python3.8/site-packages (3.7.5)\n",
      "Requirement already up-to-date: seaborn in /opt/anaconda3/lib/python3.8/site-packages (0.13.2)\n",
      "Requirement already satisfied, skipping upgrade: tzdata>=2022.1 in /opt/anaconda3/lib/python3.8/site-packages (from pandas) (2025.1)\n",
      "Requirement already satisfied, skipping upgrade: python-dateutil>=2.8.2 in /opt/anaconda3/lib/python3.8/site-packages (from pandas) (2.9.0.post0)\n",
      "Requirement already satisfied, skipping upgrade: pytz>=2020.1 in /opt/anaconda3/lib/python3.8/site-packages (from pandas) (2020.1)\n",
      "Requirement already satisfied, skipping upgrade: cycler>=0.10 in /opt/anaconda3/lib/python3.8/site-packages (from matplotlib) (0.10.0)\n",
      "Requirement already satisfied, skipping upgrade: kiwisolver>=1.0.1 in /opt/anaconda3/lib/python3.8/site-packages (from matplotlib) (1.3.0)\n",
      "Requirement already satisfied, skipping upgrade: importlib-resources>=3.2.0; python_version < \"3.10\" in /opt/anaconda3/lib/python3.8/site-packages (from matplotlib) (6.4.5)\n",
      "Requirement already satisfied, skipping upgrade: pillow>=6.2.0 in /opt/anaconda3/lib/python3.8/site-packages (from matplotlib) (8.0.1)\n",
      "Requirement already satisfied, skipping upgrade: fonttools>=4.22.0 in /opt/anaconda3/lib/python3.8/site-packages (from matplotlib) (4.56.0)\n",
      "Requirement already satisfied, skipping upgrade: pyparsing>=2.3.1 in /opt/anaconda3/lib/python3.8/site-packages (from matplotlib) (2.4.7)\n",
      "Requirement already satisfied, skipping upgrade: packaging>=20.0 in /opt/anaconda3/lib/python3.8/site-packages (from matplotlib) (20.4)\n",
      "Requirement already satisfied, skipping upgrade: contourpy>=1.0.1 in /opt/anaconda3/lib/python3.8/site-packages (from matplotlib) (1.1.1)\n",
      "Requirement already satisfied, skipping upgrade: six>=1.5 in /opt/anaconda3/lib/python3.8/site-packages (from python-dateutil>=2.8.2->pandas) (1.15.0)\n",
      "Requirement already satisfied, skipping upgrade: zipp>=3.1.0; python_version < \"3.10\" in /opt/anaconda3/lib/python3.8/site-packages (from importlib-resources>=3.2.0; python_version < \"3.10\"->matplotlib) (3.4.0)\n"
     ]
    }
   ],
   "source": [
    "!pip install --upgrade pandas numpy matplotlib seaborn"
   ]
  },
  {
   "cell_type": "markdown",
   "metadata": {},
   "source": [
    "Answer 1 (Since theoretically at this stage I dont have pandas will create variable(data) to replica values from data frame manually). "
   ]
  },
  {
   "cell_type": "code",
   "execution_count": 8,
   "metadata": {},
   "outputs": [],
   "source": [
    "data_lf = {\n",
    "    \"Afghanistan\": [28.2, 28.2, 28.2, 28.2, 28.2, 28.2, 28.1, 28.1, 28.1, 75.5, 75.7, 75.8, 76.0, 76.1, 76.2, 76.4, 76.5, 76.6, 76.8],\n",
    "    \"Angola\": [27.0, 27.0, 27.0, 27.0, 27.0, 27.0, 27.0, 27.0, 27.0, 78.8, 79.0, 79.1, 79.2, 79.3, 79.5, 79.6, 79.7, 79.9, 80.0],\n",
    "    \"Albania\": [35.4, 35.4, 35.4, 35.4, 35.4, 35.4, 35.4, 35.4, 35.4, 87.4, 87.5, 87.6, 87.7, 87.8, 87.9, 88.0, 88.2, 88.3, 88.4],\n",
    "    \"United Arab Emirates\": [30.7, 30.7, 30.7, 30.7, 30.7, 30.7, 30.7, 30.7, 30.7, 82.4, 82.5, 82.6, 82.7, 82.8, 82.9, 83.0, 83.1, 83.2, 83.3],\n",
    "    \"Argentina\": [33.2, 33.2, 33.2, 33.2, 33.2, 33.2, 33.2, 33.2, 33.2, 86.2, 86.3, 86.5, 86.5, 86.7, 86.8, 86.9, 87.0, 87.1, 87.2]\n",
    "\n",
    "}"
   ]
  },
  {
   "cell_type": "code",
   "execution_count": 9,
   "metadata": {},
   "outputs": [
    {
     "name": "stdout",
     "output_type": "stream",
     "text": [
      "Afghanistan: 53.43\n",
      "Angola: 54.58\n",
      "Albania: 63.02\n",
      "United Arab Emirates: 58.15\n",
      "Argentina: 61.37\n"
     ]
    }
   ],
   "source": [
    "def calculate_mean_life(data):\n",
    "    return {country: sum(years) / len(years) for country, years in data_lf.items()} # list comprehension, using curly brackets since we are comouting data \n",
    "                                                                                     #from dictionary above({})\n",
    "\n",
    "# Mean for each country\n",
    "mean_life_expectancy = calculate_mean_life(data_lf)\n",
    "\n",
    "for country, mean in mean_life_expectancy.items():\n",
    "    print(f\"{country}: {mean:.2f}\") # rounding up to two decimals\n"
   ]
  },
  {
   "cell_type": "code",
   "execution_count": null,
   "metadata": {},
   "outputs": [],
   "source": []
  },
  {
   "cell_type": "code",
   "execution_count": null,
   "metadata": {},
   "outputs": [],
   "source": []
  },
  {
   "cell_type": "code",
   "execution_count": null,
   "metadata": {},
   "outputs": [],
   "source": []
  },
  {
   "cell_type": "code",
   "execution_count": null,
   "metadata": {},
   "outputs": [],
   "source": []
  },
  {
   "cell_type": "markdown",
   "metadata": {},
   "source": [
    "2. Manually calculate standard deviation:\n",
    "\n",
    "    The formula for standard deviation is below:\n",
    "\n",
    "    $$\\sigma = \\sqrt{\\frac{1}{n}\\sum_{i=1}^n(x_i - \\mu)^2}$$\n",
    "\n",
    "    Where $x_i$ represents each value in the dataset, $\\mu$ represents the mean of all values in the dataset and $n$ represents the number of values in the dataset.\n",
    "\n",
    "    Write a function that takes in values and returns the standard deviation of the values using the formula above. Hint: use the function you wrote above to calculate the mean! Use the list of numbers you created above to test on your function.\n",
    "    \n",
    "    *Note*: Do not use any standard deviation methods built-in to any Python libraries to do this! This should be done without importing any additional libraries."
   ]
  },
  {
   "cell_type": "code",
   "execution_count": 59,
   "metadata": {},
   "outputs": [],
   "source": [
    "# Code:"
   ]
  },
  {
   "cell_type": "code",
   "execution_count": 10,
   "metadata": {},
   "outputs": [
    {
     "name": "stdout",
     "output_type": "stream",
     "text": [
      "Afghanistan: 24.0\n",
      "Angola: 26.2\n",
      "Albania: 26.2\n",
      "United Arab Emirates: 26.0\n",
      "Argentina: 26.7\n"
     ]
    }
   ],
   "source": [
    "def calculate_std(data, mean_life_expectancy):\n",
    "    std_dev = {}\n",
    "    for country, years in data.items(): #using for loops to help break down the code as list comprehension looks too complex woth translation std formula into python code.\n",
    "        mean = mean_life_expectancy[country]\n",
    "        variance = sum((x - mean) ** 2 for x in years) / len(years)\n",
    "        std_dev[country] = variance ** 0.5\n",
    "    return std_dev\n",
    "\n",
    "mean_life_expectancy = calculate_mean_life(data_lf)\n",
    "\n",
    "std_dev_life_expectancy = calculate_std(data_lf, mean_life_expectancy)\n",
    "\n",
    "for country, std_dev in std_dev_life_expectancy.items():\n",
    "    print(f\"{country}: {std_dev:.1f}\")  # rounding up to one decimal\n"
   ]
  },
  {
   "cell_type": "code",
   "execution_count": null,
   "metadata": {},
   "outputs": [],
   "source": []
  },
  {
   "cell_type": "code",
   "execution_count": null,
   "metadata": {},
   "outputs": [],
   "source": []
  },
  {
   "cell_type": "markdown",
   "metadata": {},
   "source": [
    "3. Data cleaning function:\n",
    "    \n",
    "    Write a function that takes in a string consisting a number and an abbreviated place value (ex. '5M', '45K'), and converts that string to an integer. For example, inputting '5M' in your function should return 5000000, '45K' should return 45000, etc. Make sure to test your function to make sure it works!\n",
    "\n",
    "You will use these functions later on in the project!"
   ]
  },
  {
   "cell_type": "code",
   "execution_count": 60,
   "metadata": {},
   "outputs": [],
   "source": [
    "# Code:"
   ]
  },
  {
   "cell_type": "code",
   "execution_count": 11,
   "metadata": {},
   "outputs": [
    {
     "name": "stdout",
     "output_type": "stream",
     "text": [
      "5000000\n",
      "45000\n",
      "2000000000\n",
      "10\n"
     ]
    }
   ],
   "source": [
    "def clean_and_convert(value):\n",
    "    if not isinstance(value, str): #if value is not string return as value\n",
    "        return value\n",
    "    if value[-1].isalpha(): # checks if last index is string\n",
    "        number = float(value[:-1])  # float * multiplies to numbers in given below condition based on what letter will be there\n",
    "        place_value = value[-1].upper() \n",
    "        if place_value == 'M':  \n",
    "            return int(number * 1_000_000) #for structuring hints Perplexity prompting was used.\n",
    "        elif place_value == 'K':  \n",
    "            return int(number * 1_000)\n",
    "        elif place_value == 'B':  \n",
    "            return int(number * 1_000_000_000)\n",
    "    else:\n",
    "        \n",
    "        return int(value) # if there is no letter returning intiger value\n",
    "    \n",
    "\n",
    "print(clean_and_convert('5M')) \n",
    "print(clean_and_convert('45K')) \n",
    "print(clean_and_convert('2B'))  \n",
    "print(clean_and_convert('10'))  \n"
   ]
  },
  {
   "cell_type": "code",
   "execution_count": null,
   "metadata": {},
   "outputs": [],
   "source": []
  },
  {
   "cell_type": "code",
   "execution_count": null,
   "metadata": {},
   "outputs": [],
   "source": []
  },
  {
   "cell_type": "markdown",
   "metadata": {},
   "source": [
    "--- \n",
    "# Part 2\n",
    "\n",
    "Part 2 requires knowledge of Pandas, EDA, data cleaning, and data visualization.\n",
    "\n",
    "---"
   ]
  },
  {
   "cell_type": "markdown",
   "metadata": {},
   "source": [
    "*All libraries used should be added here*"
   ]
  },
  {
   "cell_type": "markdown",
   "metadata": {},
   "source": [
    "### Data Import & Cleaning\n",
    "\n",
    "Import the datasets that you selected for this project and go through the following steps at a minimum. You are welcome to do further cleaning as you feel necessary:\n",
    "1. Display the data: print the first 5 rows of each dataframe to your Jupyter notebook.\n",
    "2. Check for missing values.\n",
    "3. Check for any obvious issues with the observations (keep in mind reasonable values for each column).\n",
    "4. Fix any errors you identified in steps 2-3.\n",
    "5. Display the data types of each feature.\n",
    "6. Fix any incorrect data types found in step 5.\n",
    "    - Fix any individual values preventing other columns from being the appropriate type.\n",
    "    - If your dataset has a column of abbreviated numbers (ex. '3M', '45K', etc.), use the function you wrote in Part 1 (coding challenges, number 3) to convert this to integers! *Hint*: use `.map()` or `.apply()`.\n",
    "7. Rename Columns.\n",
    "    - Column names should be all lowercase.\n",
    "    - Column names should not contain spaces (underscores will suffice--this allows for using the `df.column_name` method to access columns in addition to `df['column_name']`).\n",
    "    - Column names should be unique and informative.\n",
    "8. Drop unnecessary rows (if needed).\n",
    "9. Merge dataframes that can be merged.\n",
    "10. Perform any additional cleaning that you feel is necessary.\n",
    "11. Save your cleaned and merged dataframes as csv files."
   ]
  },
  {
   "cell_type": "code",
   "execution_count": 12,
   "metadata": {},
   "outputs": [],
   "source": [
    "import pandas as pd\n",
    "import numpy as np\n",
    "import matplotlib.pyplot as plt\n",
    "import seaborn as sns"
   ]
  },
  {
   "cell_type": "code",
   "execution_count": 66,
   "metadata": {},
   "outputs": [],
   "source": [
    "df_people = pd.read_csv(\"../2.DATA/population.csv\")\n",
    "df_life = pd.read_csv(\"../2.DATA/life_expectancy.csv\")\n",
    "df_income = pd.read_csv(\"../2.DATA/annual_income_per_capita_updated.csv\")\n",
    "df_gni = pd.read_csv(\"../2.DATA/gni_per_cap_atlas_method_con2021.csv\")"
   ]
  },
  {
   "cell_type": "markdown",
   "metadata": {},
   "source": [
    "## 1. Cleansing of Population Data \n",
    "**Mistake I made last time was cleaning unorderly which causing track during troubleshooting, going forward strictly in order**"
   ]
  },
  {
   "cell_type": "code",
   "execution_count": 68,
   "metadata": {},
   "outputs": [],
   "source": [
    "df_people.columns = df_people.columns.astype(str)\n",
    "\n",
    "columns_to_keep = [\"country\"] + [col for col in df_people.columns if col.isdigit() and 2000 <= int(col) <= 2050]\n",
    "\n",
    "df_people = df_people[columns_to_keep]\n"
   ]
  },
  {
   "cell_type": "code",
   "execution_count": 86,
   "metadata": {},
   "outputs": [],
   "source": [
    "df_people.iloc[:, 1:] = df_people.iloc[:, 1:].applymap(clean_and_convert)\n",
    "df_people.iloc[:, 1:] = df_people.iloc[:, 1:] / 1e6  \n",
    "df_people.iloc[:, 1:] = df_people.iloc[:, 1:].round(2)"
   ]
  },
  {
   "cell_type": "code",
   "execution_count": 133,
   "metadata": {},
   "outputs": [
    {
     "name": "stdout",
     "output_type": "stream",
     "text": [
      "Updated Column Names: ['country', '2000', '2001', '2002', '2003', '2004', '2005', '2006', '2007', '2008', '2009', '2010', '2011', '2012', '2013', '2014', '2015', '2016', '2017', '2018', '2019', '2020', '2021', '2022', '2023', '2024', '2025', '2026', '2027', '2028', '2029', '2030', '2031', '2032', '2033', '2034', '2035', '2036', '2037', '2038', '2039', '2040', '2041', '2042', '2043', '2044', '2045', '2046', '2047', '2048', '2049', '2050', 'growth_rate']\n"
     ]
    }
   ],
   "source": [
    "df_people.columns = df_people.columns.str.lower().str.replace(\" \", \"_\")\n",
    "df_people = df_people.loc[:, ~df_people.columns.duplicated()]    #making sure column names are unique.\n",
    "print(\"Updated Column Names:\", df_people.columns.tolist())"
   ]
  },
  {
   "cell_type": "code",
   "execution_count": 134,
   "metadata": {},
   "outputs": [],
   "source": [
    "df_people = df_people[df_people['country'] != 'Holy See']"
   ]
  },
  {
   "cell_type": "code",
   "execution_count": 136,
   "metadata": {},
   "outputs": [
    {
     "data": {
      "text/html": [
       "<div>\n",
       "<style scoped>\n",
       "    .dataframe tbody tr th:only-of-type {\n",
       "        vertical-align: middle;\n",
       "    }\n",
       "\n",
       "    .dataframe tbody tr th {\n",
       "        vertical-align: top;\n",
       "    }\n",
       "\n",
       "    .dataframe thead th {\n",
       "        text-align: right;\n",
       "    }\n",
       "</style>\n",
       "<table border=\"1\" class=\"dataframe\">\n",
       "  <thead>\n",
       "    <tr style=\"text-align: right;\">\n",
       "      <th></th>\n",
       "      <th>country</th>\n",
       "      <th>2000</th>\n",
       "      <th>2001</th>\n",
       "      <th>2002</th>\n",
       "      <th>2003</th>\n",
       "      <th>2004</th>\n",
       "      <th>2005</th>\n",
       "      <th>2006</th>\n",
       "      <th>2007</th>\n",
       "      <th>2008</th>\n",
       "      <th>...</th>\n",
       "      <th>2042</th>\n",
       "      <th>2043</th>\n",
       "      <th>2044</th>\n",
       "      <th>2045</th>\n",
       "      <th>2046</th>\n",
       "      <th>2047</th>\n",
       "      <th>2048</th>\n",
       "      <th>2049</th>\n",
       "      <th>2050</th>\n",
       "      <th>growth_rate</th>\n",
       "    </tr>\n",
       "  </thead>\n",
       "  <tbody>\n",
       "    <tr>\n",
       "      <th>0</th>\n",
       "      <td>Afghanistan</td>\n",
       "      <td>19.50</td>\n",
       "      <td>19.70</td>\n",
       "      <td>21.00</td>\n",
       "      <td>22.60</td>\n",
       "      <td>23.60</td>\n",
       "      <td>24.40</td>\n",
       "      <td>25.40</td>\n",
       "      <td>25.90</td>\n",
       "      <td>26.40</td>\n",
       "      <td>...</td>\n",
       "      <td>64.60</td>\n",
       "      <td>65.80</td>\n",
       "      <td>67.00</td>\n",
       "      <td>68.20</td>\n",
       "      <td>69.40</td>\n",
       "      <td>70.50</td>\n",
       "      <td>71.70</td>\n",
       "      <td>72.90</td>\n",
       "      <td>74.10</td>\n",
       "      <td>280.000000</td>\n",
       "    </tr>\n",
       "    <tr>\n",
       "      <th>1</th>\n",
       "      <td>Angola</td>\n",
       "      <td>16.40</td>\n",
       "      <td>16.90</td>\n",
       "      <td>17.50</td>\n",
       "      <td>18.10</td>\n",
       "      <td>18.80</td>\n",
       "      <td>19.50</td>\n",
       "      <td>20.20</td>\n",
       "      <td>20.90</td>\n",
       "      <td>21.70</td>\n",
       "      <td>...</td>\n",
       "      <td>60.90</td>\n",
       "      <td>62.30</td>\n",
       "      <td>63.70</td>\n",
       "      <td>65.10</td>\n",
       "      <td>66.60</td>\n",
       "      <td>68.00</td>\n",
       "      <td>69.40</td>\n",
       "      <td>70.90</td>\n",
       "      <td>72.30</td>\n",
       "      <td>340.853659</td>\n",
       "    </tr>\n",
       "    <tr>\n",
       "      <th>2</th>\n",
       "      <td>Albania</td>\n",
       "      <td>3.18</td>\n",
       "      <td>3.15</td>\n",
       "      <td>3.12</td>\n",
       "      <td>3.09</td>\n",
       "      <td>3.06</td>\n",
       "      <td>3.03</td>\n",
       "      <td>3.00</td>\n",
       "      <td>2.98</td>\n",
       "      <td>2.95</td>\n",
       "      <td>...</td>\n",
       "      <td>2.62</td>\n",
       "      <td>2.61</td>\n",
       "      <td>2.59</td>\n",
       "      <td>2.57</td>\n",
       "      <td>2.54</td>\n",
       "      <td>2.52</td>\n",
       "      <td>2.50</td>\n",
       "      <td>2.48</td>\n",
       "      <td>2.46</td>\n",
       "      <td>-22.641509</td>\n",
       "    </tr>\n",
       "    <tr>\n",
       "      <th>3</th>\n",
       "      <td>Andorra</td>\n",
       "      <td>0.07</td>\n",
       "      <td>0.07</td>\n",
       "      <td>0.07</td>\n",
       "      <td>0.07</td>\n",
       "      <td>0.08</td>\n",
       "      <td>0.08</td>\n",
       "      <td>0.08</td>\n",
       "      <td>0.08</td>\n",
       "      <td>0.08</td>\n",
       "      <td>...</td>\n",
       "      <td>0.08</td>\n",
       "      <td>0.08</td>\n",
       "      <td>0.08</td>\n",
       "      <td>0.08</td>\n",
       "      <td>0.08</td>\n",
       "      <td>0.08</td>\n",
       "      <td>0.08</td>\n",
       "      <td>0.08</td>\n",
       "      <td>0.08</td>\n",
       "      <td>14.285714</td>\n",
       "    </tr>\n",
       "    <tr>\n",
       "      <th>4</th>\n",
       "      <td>United Arab Emirates</td>\n",
       "      <td>3.28</td>\n",
       "      <td>3.45</td>\n",
       "      <td>3.63</td>\n",
       "      <td>3.81</td>\n",
       "      <td>3.99</td>\n",
       "      <td>4.28</td>\n",
       "      <td>4.90</td>\n",
       "      <td>5.87</td>\n",
       "      <td>6.99</td>\n",
       "      <td>...</td>\n",
       "      <td>10.80</td>\n",
       "      <td>10.90</td>\n",
       "      <td>11.00</td>\n",
       "      <td>11.10</td>\n",
       "      <td>11.10</td>\n",
       "      <td>11.20</td>\n",
       "      <td>11.30</td>\n",
       "      <td>11.40</td>\n",
       "      <td>11.40</td>\n",
       "      <td>247.560976</td>\n",
       "    </tr>\n",
       "    <tr>\n",
       "      <th>...</th>\n",
       "      <td>...</td>\n",
       "      <td>...</td>\n",
       "      <td>...</td>\n",
       "      <td>...</td>\n",
       "      <td>...</td>\n",
       "      <td>...</td>\n",
       "      <td>...</td>\n",
       "      <td>...</td>\n",
       "      <td>...</td>\n",
       "      <td>...</td>\n",
       "      <td>...</td>\n",
       "      <td>...</td>\n",
       "      <td>...</td>\n",
       "      <td>...</td>\n",
       "      <td>...</td>\n",
       "      <td>...</td>\n",
       "      <td>...</td>\n",
       "      <td>...</td>\n",
       "      <td>...</td>\n",
       "      <td>...</td>\n",
       "      <td>...</td>\n",
       "    </tr>\n",
       "    <tr>\n",
       "      <th>71</th>\n",
       "      <td>Guyana</td>\n",
       "      <td>0.76</td>\n",
       "      <td>0.76</td>\n",
       "      <td>0.76</td>\n",
       "      <td>0.76</td>\n",
       "      <td>0.76</td>\n",
       "      <td>0.76</td>\n",
       "      <td>0.76</td>\n",
       "      <td>0.76</td>\n",
       "      <td>0.75</td>\n",
       "      <td>...</td>\n",
       "      <td>0.88</td>\n",
       "      <td>0.88</td>\n",
       "      <td>0.88</td>\n",
       "      <td>0.88</td>\n",
       "      <td>0.88</td>\n",
       "      <td>0.88</td>\n",
       "      <td>0.88</td>\n",
       "      <td>0.88</td>\n",
       "      <td>0.88</td>\n",
       "      <td>15.789474</td>\n",
       "    </tr>\n",
       "    <tr>\n",
       "      <th>72</th>\n",
       "      <td>Hong Kong, China</td>\n",
       "      <td>6.73</td>\n",
       "      <td>6.80</td>\n",
       "      <td>6.85</td>\n",
       "      <td>6.89</td>\n",
       "      <td>6.92</td>\n",
       "      <td>6.94</td>\n",
       "      <td>6.96</td>\n",
       "      <td>7.00</td>\n",
       "      <td>7.05</td>\n",
       "      <td>...</td>\n",
       "      <td>7.25</td>\n",
       "      <td>7.22</td>\n",
       "      <td>7.19</td>\n",
       "      <td>7.16</td>\n",
       "      <td>7.12</td>\n",
       "      <td>7.09</td>\n",
       "      <td>7.05</td>\n",
       "      <td>7.01</td>\n",
       "      <td>6.98</td>\n",
       "      <td>3.714710</td>\n",
       "    </tr>\n",
       "    <tr>\n",
       "      <th>73</th>\n",
       "      <td>Honduras</td>\n",
       "      <td>6.66</td>\n",
       "      <td>6.84</td>\n",
       "      <td>7.02</td>\n",
       "      <td>7.20</td>\n",
       "      <td>7.38</td>\n",
       "      <td>7.56</td>\n",
       "      <td>7.75</td>\n",
       "      <td>7.92</td>\n",
       "      <td>8.10</td>\n",
       "      <td>...</td>\n",
       "      <td>13.40</td>\n",
       "      <td>13.50</td>\n",
       "      <td>13.60</td>\n",
       "      <td>13.70</td>\n",
       "      <td>13.80</td>\n",
       "      <td>14.00</td>\n",
       "      <td>14.10</td>\n",
       "      <td>14.20</td>\n",
       "      <td>14.30</td>\n",
       "      <td>114.714715</td>\n",
       "    </tr>\n",
       "    <tr>\n",
       "      <th>75</th>\n",
       "      <td>Croatia</td>\n",
       "      <td>4.55</td>\n",
       "      <td>4.51</td>\n",
       "      <td>4.48</td>\n",
       "      <td>4.46</td>\n",
       "      <td>4.44</td>\n",
       "      <td>4.43</td>\n",
       "      <td>4.42</td>\n",
       "      <td>4.41</td>\n",
       "      <td>4.39</td>\n",
       "      <td>...</td>\n",
       "      <td>3.55</td>\n",
       "      <td>3.52</td>\n",
       "      <td>3.49</td>\n",
       "      <td>3.47</td>\n",
       "      <td>3.44</td>\n",
       "      <td>3.41</td>\n",
       "      <td>3.39</td>\n",
       "      <td>3.36</td>\n",
       "      <td>3.33</td>\n",
       "      <td>-26.813187</td>\n",
       "    </tr>\n",
       "    <tr>\n",
       "      <th>76</th>\n",
       "      <td>Haiti</td>\n",
       "      <td>8.36</td>\n",
       "      <td>8.51</td>\n",
       "      <td>8.66</td>\n",
       "      <td>8.81</td>\n",
       "      <td>8.96</td>\n",
       "      <td>9.11</td>\n",
       "      <td>9.27</td>\n",
       "      <td>9.42</td>\n",
       "      <td>9.58</td>\n",
       "      <td>...</td>\n",
       "      <td>14.20</td>\n",
       "      <td>14.30</td>\n",
       "      <td>14.50</td>\n",
       "      <td>14.60</td>\n",
       "      <td>14.70</td>\n",
       "      <td>14.80</td>\n",
       "      <td>14.90</td>\n",
       "      <td>15.00</td>\n",
       "      <td>15.10</td>\n",
       "      <td>80.622010</td>\n",
       "    </tr>\n",
       "  </tbody>\n",
       "</table>\n",
       "<p>76 rows × 53 columns</p>\n",
       "</div>"
      ],
      "text/plain": [
       "                 country   2000   2001   2002   2003   2004   2005   2006  \\\n",
       "0            Afghanistan  19.50  19.70  21.00  22.60  23.60  24.40  25.40   \n",
       "1                 Angola  16.40  16.90  17.50  18.10  18.80  19.50  20.20   \n",
       "2                Albania   3.18   3.15   3.12   3.09   3.06   3.03   3.00   \n",
       "3                Andorra   0.07   0.07   0.07   0.07   0.08   0.08   0.08   \n",
       "4   United Arab Emirates   3.28   3.45   3.63   3.81   3.99   4.28   4.90   \n",
       "..                   ...    ...    ...    ...    ...    ...    ...    ...   \n",
       "71                Guyana   0.76   0.76   0.76   0.76   0.76   0.76   0.76   \n",
       "72      Hong Kong, China   6.73   6.80   6.85   6.89   6.92   6.94   6.96   \n",
       "73              Honduras   6.66   6.84   7.02   7.20   7.38   7.56   7.75   \n",
       "75               Croatia   4.55   4.51   4.48   4.46   4.44   4.43   4.42   \n",
       "76                 Haiti   8.36   8.51   8.66   8.81   8.96   9.11   9.27   \n",
       "\n",
       "     2007   2008  ...   2042   2043   2044   2045   2046   2047   2048   2049  \\\n",
       "0   25.90  26.40  ...  64.60  65.80  67.00  68.20  69.40  70.50  71.70  72.90   \n",
       "1   20.90  21.70  ...  60.90  62.30  63.70  65.10  66.60  68.00  69.40  70.90   \n",
       "2    2.98   2.95  ...   2.62   2.61   2.59   2.57   2.54   2.52   2.50   2.48   \n",
       "3    0.08   0.08  ...   0.08   0.08   0.08   0.08   0.08   0.08   0.08   0.08   \n",
       "4    5.87   6.99  ...  10.80  10.90  11.00  11.10  11.10  11.20  11.30  11.40   \n",
       "..    ...    ...  ...    ...    ...    ...    ...    ...    ...    ...    ...   \n",
       "71   0.76   0.75  ...   0.88   0.88   0.88   0.88   0.88   0.88   0.88   0.88   \n",
       "72   7.00   7.05  ...   7.25   7.22   7.19   7.16   7.12   7.09   7.05   7.01   \n",
       "73   7.92   8.10  ...  13.40  13.50  13.60  13.70  13.80  14.00  14.10  14.20   \n",
       "75   4.41   4.39  ...   3.55   3.52   3.49   3.47   3.44   3.41   3.39   3.36   \n",
       "76   9.42   9.58  ...  14.20  14.30  14.50  14.60  14.70  14.80  14.90  15.00   \n",
       "\n",
       "     2050  growth_rate  \n",
       "0   74.10   280.000000  \n",
       "1   72.30   340.853659  \n",
       "2    2.46   -22.641509  \n",
       "3    0.08    14.285714  \n",
       "4   11.40   247.560976  \n",
       "..    ...          ...  \n",
       "71   0.88    15.789474  \n",
       "72   6.98     3.714710  \n",
       "73  14.30   114.714715  \n",
       "75   3.33   -26.813187  \n",
       "76  15.10    80.622010  \n",
       "\n",
       "[76 rows x 53 columns]"
      ]
     },
     "execution_count": 136,
     "metadata": {},
     "output_type": "execute_result"
    }
   ],
   "source": [
    "df_people.head(76)\n"
   ]
  },
  {
   "cell_type": "code",
   "execution_count": 137,
   "metadata": {},
   "outputs": [
    {
     "name": "stdout",
     "output_type": "stream",
     "text": [
      "Population: 0\n"
     ]
    }
   ],
   "source": [
    "print(\"Population:\", df_people.isnull().sum().sum())"
   ]
  },
  {
   "cell_type": "code",
   "execution_count": 138,
   "metadata": {},
   "outputs": [],
   "source": [
    "df_people.fillna(method='ffill', inplace=True)"
   ]
  },
  {
   "cell_type": "code",
   "execution_count": 139,
   "metadata": {},
   "outputs": [
    {
     "name": "stdout",
     "output_type": "stream",
     "text": [
      "Population: 0\n"
     ]
    }
   ],
   "source": [
    "print(\"Population:\", df_people.isnull().sum().sum())\n"
   ]
  },
  {
   "cell_type": "code",
   "execution_count": 142,
   "metadata": {},
   "outputs": [],
   "source": [
    "df_people.columns = df_people.columns.astype(str)\n",
    "\n",
    "df_people.iloc[:, 1:] = df_people.iloc[:, 1:].apply(pd.to_numeric, errors='coerce')\n"
   ]
  },
  {
   "cell_type": "code",
   "execution_count": 143,
   "metadata": {},
   "outputs": [
    {
     "name": "stdout",
     "output_type": "stream",
     "text": [
      "29\n"
     ]
    }
   ],
   "source": [
    "print((df_people.iloc[:, 1:] < 0).sum().sum())"
   ]
  },
  {
   "cell_type": "markdown",
   "metadata": {},
   "source": [
    "**Part of the EDA requirement was creating sdt variable and print standard deviation, didnt do it since std included in below .describe (apologize I still have data cluttering anxiety, want to keep maximum clean)**"
   ]
  },
  {
   "cell_type": "code",
   "execution_count": 144,
   "metadata": {},
   "outputs": [
    {
     "name": "stdout",
     "output_type": "stream",
     "text": [
      "\n",
      "Summary of Population statistics: \n",
      "              2000         2001         2002         2003         2004  \\\n",
      "count   196.000000   196.000000   196.000000   196.000000   196.000000   \n",
      "mean     31.299541    31.720357    32.155816    32.592398    33.028878   \n",
      "std     121.247457   122.760567   124.276230   125.800293   127.321957   \n",
      "min       0.010000     0.010000     0.010000     0.010000     0.010000   \n",
      "25%       1.430000     1.457500     1.485000     1.522500     1.562500   \n",
      "50%       6.195000     6.400000     6.595000     6.765000     6.860000   \n",
      "75%      19.550000    19.825000    20.850000    21.350000    21.450000   \n",
      "max    1260.000000  1270.000000  1280.000000  1290.000000  1300.000000   \n",
      "\n",
      "              2005         2006         2007         2008         2009  ...  \\\n",
      "count   196.000000   196.000000   196.000000   196.000000   196.000000  ...   \n",
      "mean     33.358980    33.806327    34.256122    34.716276    35.134643  ...   \n",
      "std     127.882468   129.409752   130.937511   132.471658   133.559929  ...   \n",
      "min       0.010000     0.010000     0.010000     0.010000     0.010000  ...   \n",
      "25%       1.610000     1.657500     1.707500     1.765000     1.822500  ...   \n",
      "50%       6.935000     7.010000     7.095000     7.230000     7.550000  ...   \n",
      "75%      21.600000    22.225000    22.675000    23.075000    23.250000  ...   \n",
      "max    1300.000000  1310.000000  1320.000000  1330.000000  1340.000000  ...   \n",
      "\n",
      "              2042         2043         2044         2045         2046  \\\n",
      "count   196.000000   196.000000   196.000000   196.000000   196.000000   \n",
      "mean     47.442704    47.672755    48.005306    48.267959    48.490408   \n",
      "std     159.670104   159.416632   160.098583   160.361205   160.111877   \n",
      "min       0.010000     0.010000     0.010000     0.010000     0.010000   \n",
      "25%       2.447500     2.475000     2.492500     2.495000     2.467500   \n",
      "50%       9.600000     9.595000     9.585000     9.595000     9.690000   \n",
      "75%      39.825000    40.525000    40.900000    41.375000    41.775000   \n",
      "max    1630.000000  1630.000000  1640.000000  1650.000000  1650.000000   \n",
      "\n",
      "              2047         2048         2049         2050  growth_rate  \n",
      "count   196.000000   196.000000   196.000000   196.000000   196.000000  \n",
      "mean     48.794235    49.012551    49.274643    49.459898    88.791918  \n",
      "std     160.788078   160.550289   160.851061   160.595097   100.694441  \n",
      "min       0.010000     0.010000     0.010000     0.010000   -40.167364  \n",
      "25%       2.450000     2.430000     2.410000     2.392500    11.397247  \n",
      "50%       9.785000     9.855000     9.915000     9.890000    53.114206  \n",
      "75%      42.175000    42.375000    42.475000    42.550000   157.268612  \n",
      "max    1660.000000  1660.000000  1670.000000  1670.000000   477.586207  \n",
      "\n",
      "[8 rows x 52 columns]\n"
     ]
    }
   ],
   "source": [
    "print(\"\\nSummary of Population statistics: \")\n",
    "print(df_people.describe())"
   ]
  },
  {
   "cell_type": "markdown",
   "metadata": {},
   "source": [
    "## 1. Cleansing of Life Expectancy Data  \n"
   ]
  },
  {
   "cell_type": "code",
   "execution_count": 145,
   "metadata": {},
   "outputs": [],
   "source": [
    "df_life.columns = df_life.columns.astype(str)\n",
    "\n",
    "columns_to_keep = [\"country\"] + [col for col in df_life.columns if col.isdigit() and 2000 <= int(col) <= 2050]\n",
    "\n",
    "df_life = df_life[columns_to_keep]\n",
    "\n"
   ]
  },
  {
   "cell_type": "code",
   "execution_count": 96,
   "metadata": {},
   "outputs": [
    {
     "name": "stdout",
     "output_type": "stream",
     "text": [
      "Updated Column Names: ['country', '2000', '2001', '2002', '2003', '2004', '2005', '2006', '2007', '2008', '2009', '2010', '2011', '2012', '2013', '2014', '2015', '2016', '2017', '2018', '2019', '2020', '2021', '2022', '2023', '2024', '2025', '2026', '2027', '2028', '2029', '2030', '2031', '2032', '2033', '2034', '2035', '2036', '2037', '2038', '2039', '2040', '2041', '2042', '2043', '2044', '2045', '2046', '2047', '2048', '2049', '2050']\n"
     ]
    }
   ],
   "source": [
    "df_life.columns = df_life.columns.str.lower().str.replace(\" \", \"_\")\n",
    "df_life = df_life.loc[:, ~df_life.columns.duplicated()]    #making sure column names are unique.\n",
    "print(\"Updated Column Names:\", df_life.columns.tolist())"
   ]
  },
  {
   "cell_type": "code",
   "execution_count": 108,
   "metadata": {},
   "outputs": [
    {
     "data": {
      "text/html": [
       "<div>\n",
       "<style scoped>\n",
       "    .dataframe tbody tr th:only-of-type {\n",
       "        vertical-align: middle;\n",
       "    }\n",
       "\n",
       "    .dataframe tbody tr th {\n",
       "        vertical-align: top;\n",
       "    }\n",
       "\n",
       "    .dataframe thead th {\n",
       "        text-align: right;\n",
       "    }\n",
       "</style>\n",
       "<table border=\"1\" class=\"dataframe\">\n",
       "  <thead>\n",
       "    <tr style=\"text-align: right;\">\n",
       "      <th></th>\n",
       "      <th>country</th>\n",
       "      <th>2000</th>\n",
       "      <th>2001</th>\n",
       "      <th>2002</th>\n",
       "      <th>2003</th>\n",
       "      <th>2004</th>\n",
       "      <th>2005</th>\n",
       "      <th>2006</th>\n",
       "      <th>2007</th>\n",
       "      <th>2008</th>\n",
       "      <th>...</th>\n",
       "      <th>2041</th>\n",
       "      <th>2042</th>\n",
       "      <th>2043</th>\n",
       "      <th>2044</th>\n",
       "      <th>2045</th>\n",
       "      <th>2046</th>\n",
       "      <th>2047</th>\n",
       "      <th>2048</th>\n",
       "      <th>2049</th>\n",
       "      <th>2050</th>\n",
       "    </tr>\n",
       "  </thead>\n",
       "  <tbody>\n",
       "    <tr>\n",
       "      <th>0</th>\n",
       "      <td>Afghanistan</td>\n",
       "      <td>54.7</td>\n",
       "      <td>54.8</td>\n",
       "      <td>55.5</td>\n",
       "      <td>56.5</td>\n",
       "      <td>57.1</td>\n",
       "      <td>57.6</td>\n",
       "      <td>58.0</td>\n",
       "      <td>58.5</td>\n",
       "      <td>59.2</td>\n",
       "      <td>...</td>\n",
       "      <td>68.6</td>\n",
       "      <td>68.8</td>\n",
       "      <td>68.9</td>\n",
       "      <td>69.1</td>\n",
       "      <td>69.2</td>\n",
       "      <td>69.4</td>\n",
       "      <td>69.5</td>\n",
       "      <td>69.7</td>\n",
       "      <td>69.8</td>\n",
       "      <td>70.0</td>\n",
       "    </tr>\n",
       "    <tr>\n",
       "      <th>1</th>\n",
       "      <td>Angola</td>\n",
       "      <td>52.8</td>\n",
       "      <td>53.4</td>\n",
       "      <td>54.5</td>\n",
       "      <td>55.1</td>\n",
       "      <td>55.5</td>\n",
       "      <td>56.4</td>\n",
       "      <td>57.0</td>\n",
       "      <td>58.0</td>\n",
       "      <td>58.8</td>\n",
       "      <td>...</td>\n",
       "      <td>71.4</td>\n",
       "      <td>71.6</td>\n",
       "      <td>71.8</td>\n",
       "      <td>72.0</td>\n",
       "      <td>72.2</td>\n",
       "      <td>72.4</td>\n",
       "      <td>72.5</td>\n",
       "      <td>72.7</td>\n",
       "      <td>72.9</td>\n",
       "      <td>73.1</td>\n",
       "    </tr>\n",
       "    <tr>\n",
       "      <th>2</th>\n",
       "      <td>Albania</td>\n",
       "      <td>75.4</td>\n",
       "      <td>76.0</td>\n",
       "      <td>75.9</td>\n",
       "      <td>75.6</td>\n",
       "      <td>75.8</td>\n",
       "      <td>76.2</td>\n",
       "      <td>76.9</td>\n",
       "      <td>77.5</td>\n",
       "      <td>77.6</td>\n",
       "      <td>...</td>\n",
       "      <td>81.6</td>\n",
       "      <td>81.8</td>\n",
       "      <td>81.9</td>\n",
       "      <td>82.0</td>\n",
       "      <td>82.2</td>\n",
       "      <td>82.3</td>\n",
       "      <td>82.4</td>\n",
       "      <td>82.6</td>\n",
       "      <td>82.7</td>\n",
       "      <td>82.8</td>\n",
       "    </tr>\n",
       "    <tr>\n",
       "      <th>3</th>\n",
       "      <td>Andorra</td>\n",
       "      <td>80.8</td>\n",
       "      <td>80.9</td>\n",
       "      <td>81.1</td>\n",
       "      <td>81.2</td>\n",
       "      <td>81.3</td>\n",
       "      <td>81.4</td>\n",
       "      <td>81.5</td>\n",
       "      <td>81.7</td>\n",
       "      <td>81.8</td>\n",
       "      <td>...</td>\n",
       "      <td>81.6</td>\n",
       "      <td>81.8</td>\n",
       "      <td>81.9</td>\n",
       "      <td>82.0</td>\n",
       "      <td>82.2</td>\n",
       "      <td>82.3</td>\n",
       "      <td>82.4</td>\n",
       "      <td>82.6</td>\n",
       "      <td>82.7</td>\n",
       "      <td>82.8</td>\n",
       "    </tr>\n",
       "    <tr>\n",
       "      <th>4</th>\n",
       "      <td>United Arab Emirates</td>\n",
       "      <td>69.1</td>\n",
       "      <td>69.2</td>\n",
       "      <td>69.4</td>\n",
       "      <td>69.3</td>\n",
       "      <td>69.1</td>\n",
       "      <td>69.2</td>\n",
       "      <td>69.5</td>\n",
       "      <td>70.0</td>\n",
       "      <td>70.4</td>\n",
       "      <td>...</td>\n",
       "      <td>76.8</td>\n",
       "      <td>77.0</td>\n",
       "      <td>77.1</td>\n",
       "      <td>77.2</td>\n",
       "      <td>77.3</td>\n",
       "      <td>77.5</td>\n",
       "      <td>77.6</td>\n",
       "      <td>77.7</td>\n",
       "      <td>77.9</td>\n",
       "      <td>78.0</td>\n",
       "    </tr>\n",
       "  </tbody>\n",
       "</table>\n",
       "<p>5 rows × 52 columns</p>\n",
       "</div>"
      ],
      "text/plain": [
       "                country  2000  2001  2002  2003  2004  2005  2006  2007  2008  \\\n",
       "0           Afghanistan  54.7  54.8  55.5  56.5  57.1  57.6  58.0  58.5  59.2   \n",
       "1                Angola  52.8  53.4  54.5  55.1  55.5  56.4  57.0  58.0  58.8   \n",
       "2               Albania  75.4  76.0  75.9  75.6  75.8  76.2  76.9  77.5  77.6   \n",
       "3               Andorra  80.8  80.9  81.1  81.2  81.3  81.4  81.5  81.7  81.8   \n",
       "4  United Arab Emirates  69.1  69.2  69.4  69.3  69.1  69.2  69.5  70.0  70.4   \n",
       "\n",
       "   ...  2041  2042  2043  2044  2045  2046  2047  2048  2049  2050  \n",
       "0  ...  68.6  68.8  68.9  69.1  69.2  69.4  69.5  69.7  69.8  70.0  \n",
       "1  ...  71.4  71.6  71.8  72.0  72.2  72.4  72.5  72.7  72.9  73.1  \n",
       "2  ...  81.6  81.8  81.9  82.0  82.2  82.3  82.4  82.6  82.7  82.8  \n",
       "3  ...  81.6  81.8  81.9  82.0  82.2  82.3  82.4  82.6  82.7  82.8  \n",
       "4  ...  76.8  77.0  77.1  77.2  77.3  77.5  77.6  77.7  77.9  78.0  \n",
       "\n",
       "[5 rows x 52 columns]"
      ]
     },
     "execution_count": 108,
     "metadata": {},
     "output_type": "execute_result"
    }
   ],
   "source": [
    "df_life.head()"
   ]
  },
  {
   "cell_type": "code",
   "execution_count": 99,
   "metadata": {},
   "outputs": [],
   "source": [
    "df_life.fillna(method='ffill', inplace=True)"
   ]
  },
  {
   "cell_type": "code",
   "execution_count": 100,
   "metadata": {},
   "outputs": [
    {
     "data": {
      "text/plain": [
       "0"
      ]
     },
     "execution_count": 100,
     "metadata": {},
     "output_type": "execute_result"
    }
   ],
   "source": [
    "df_life.isnull().sum().sum()"
   ]
  },
  {
   "cell_type": "code",
   "execution_count": 103,
   "metadata": {},
   "outputs": [],
   "source": [
    "df_life.columns = df_life.columns.astype(str)\n",
    "\n",
    "df_life.iloc[:, 1:] = df_life.iloc[:, 1:].apply(pd.to_numeric, errors='coerce')\n"
   ]
  },
  {
   "cell_type": "markdown",
   "metadata": {},
   "source": [
    "**High Standard Deviation Values!!!** *Dataframes like **df_income** and **df_population** have high std values due to high variability i/e big value differences.\n",
    "For exmaple population difference between China and Andorra or income difference between industriolized and developing countries.*\n",
    "\n",
    "**Low Standard Deviation Values!!!** *Life expectancy in **df_life** ranges from 30 to 90 years, leading to a smaller standard deviation(4-9). This means most countries deviate only slightly from the average. A gradual increase in std suggests growing regional differences in life expectancy improvements..*"
   ]
  },
  {
   "cell_type": "markdown",
   "metadata": {},
   "source": [
    "**Part of the EDA requirement was creating sdt variable and print standard deviation, didnt do it since std included in below .describe (apologize I still have data cluttering anxiety, want to keep maximum clean)**"
   ]
  },
  {
   "cell_type": "code",
   "execution_count": 125,
   "metadata": {},
   "outputs": [
    {
     "name": "stdout",
     "output_type": "stream",
     "text": [
      "\n",
      "Summary Life Expectancy statistics:\n",
      "             2000        2001        2002        2003        2004        2005  \\\n",
      "count  195.000000  195.000000  195.000000  195.000000  195.000000  195.000000   \n",
      "mean    67.489231   67.770769   67.963077   68.207692   68.470769   68.818462   \n",
      "std      9.487188    9.492526    9.474576    9.433451    9.355224    9.246262   \n",
      "min     43.800000   43.900000   44.200000   43.900000   43.100000   43.300000   \n",
      "25%     60.800000   61.150000   61.450000   61.950000   62.150000   62.200000   \n",
      "50%     70.300000   70.600000   70.700000   71.000000   71.100000   71.200000   \n",
      "75%     74.700000   75.000000   75.050000   75.250000   75.450000   75.600000   \n",
      "max     81.600000   81.900000   82.200000   82.300000   82.500000   82.500000   \n",
      "\n",
      "             2006        2007        2008        2009  ...        2041  \\\n",
      "count  195.000000  195.000000  195.000000  195.000000  ...  195.000000   \n",
      "mean    69.181538   69.542564   69.856410   70.205128  ...   76.728718   \n",
      "std      9.049649    8.847965    8.656599    8.435973  ...    6.241646   \n",
      "min     44.100000   44.900000   45.500000   46.400000  ...   58.600000   \n",
      "25%     62.350000   62.800000   63.250000   63.900000  ...   71.900000   \n",
      "50%     71.200000   71.600000   71.900000   72.100000  ...   77.300000   \n",
      "75%     75.900000   75.950000   75.950000   76.300000  ...   81.450000   \n",
      "max     82.800000   82.900000   83.100000   83.300000  ...   87.600000   \n",
      "\n",
      "             2042        2043        2044        2045        2046        2047  \\\n",
      "count  195.000000  195.000000  195.000000  195.000000  195.000000  195.000000   \n",
      "mean    76.887692   77.032308   77.187179   77.335385   77.486154   77.631282   \n",
      "std      6.219677    6.201524    6.182232    6.168070    6.154276    6.138806   \n",
      "min     58.900000   59.100000   59.300000   59.500000   59.700000   60.000000   \n",
      "25%     72.050000   72.300000   72.550000   72.800000   73.000000   73.250000   \n",
      "50%     77.400000   77.500000   77.700000   77.800000   77.900000   78.000000   \n",
      "75%     81.550000   81.700000   81.850000   82.000000   82.100000   82.300000   \n",
      "max     87.700000   87.800000   87.900000   88.000000   88.200000   88.300000   \n",
      "\n",
      "             2048        2049        2050  \n",
      "count  195.000000  195.000000  195.000000  \n",
      "mean    77.784615   77.921538   78.064615  \n",
      "std      6.128930    6.114563    6.103855  \n",
      "min     60.200000   60.400000   60.600000  \n",
      "25%     73.450000   73.650000   73.850000  \n",
      "50%     78.200000   78.300000   78.500000  \n",
      "75%     82.400000   82.550000   82.650000  \n",
      "max     88.400000   88.500000   88.600000  \n",
      "\n",
      "[8 rows x 51 columns]\n"
     ]
    }
   ],
   "source": [
    "print(\"\\nSummary Life Expectancy statistics:\")\n",
    "print(df_life.describe())"
   ]
  },
  {
   "cell_type": "markdown",
   "metadata": {},
   "source": [
    "## 1. Cleansing of Annual Income Data(per capita / daily income report converted to daily income * 365.5)"
   ]
  },
  {
   "cell_type": "code",
   "execution_count": 109,
   "metadata": {},
   "outputs": [],
   "source": [
    "df_income.columns = df_income.columns.astype(str)\n",
    "\n",
    "columns_to_keep = [\"country\"] + [col for col in df_income.columns if col.isdigit() and 2000 <= int(col) <= 2050]\n",
    "\n",
    "df_income = df_income[columns_to_keep]\n"
   ]
  },
  {
   "cell_type": "code",
   "execution_count": 110,
   "metadata": {},
   "outputs": [
    {
     "name": "stdout",
     "output_type": "stream",
     "text": [
      "Updated Column Names: ['country', '2000', '2001', '2002', '2003', '2004', '2005', '2006', '2007', '2008', '2009', '2010', '2011', '2012', '2013', '2014', '2015', '2016', '2017', '2018', '2019', '2020', '2021', '2022', '2023', '2024', '2025', '2026', '2027', '2028', '2029', '2030', '2031', '2032', '2033', '2034', '2035', '2036', '2037', '2038', '2039', '2040', '2041', '2042', '2043', '2044', '2045', '2046', '2047', '2048', '2049', '2050']\n"
     ]
    }
   ],
   "source": [
    "df_income.columns = df_income.columns.str.lower().str.replace(\" \", \"_\")\n",
    "df_income = df_income.loc[:, ~df_income.columns.duplicated()]    #making sure column names are unique.\n",
    "print(\"Updated Column Names:\", df_income.columns.tolist())"
   ]
  },
  {
   "cell_type": "code",
   "execution_count": 113,
   "metadata": {},
   "outputs": [
    {
     "data": {
      "text/html": [
       "<div>\n",
       "<style scoped>\n",
       "    .dataframe tbody tr th:only-of-type {\n",
       "        vertical-align: middle;\n",
       "    }\n",
       "\n",
       "    .dataframe tbody tr th {\n",
       "        vertical-align: top;\n",
       "    }\n",
       "\n",
       "    .dataframe thead th {\n",
       "        text-align: right;\n",
       "    }\n",
       "</style>\n",
       "<table border=\"1\" class=\"dataframe\">\n",
       "  <thead>\n",
       "    <tr style=\"text-align: right;\">\n",
       "      <th></th>\n",
       "      <th>country</th>\n",
       "      <th>2000</th>\n",
       "      <th>2001</th>\n",
       "      <th>2002</th>\n",
       "      <th>2003</th>\n",
       "      <th>2004</th>\n",
       "      <th>2005</th>\n",
       "      <th>2006</th>\n",
       "      <th>2007</th>\n",
       "      <th>2008</th>\n",
       "      <th>...</th>\n",
       "      <th>2041</th>\n",
       "      <th>2042</th>\n",
       "      <th>2043</th>\n",
       "      <th>2044</th>\n",
       "      <th>2045</th>\n",
       "      <th>2046</th>\n",
       "      <th>2047</th>\n",
       "      <th>2048</th>\n",
       "      <th>2049</th>\n",
       "      <th>2050</th>\n",
       "    </tr>\n",
       "  </thead>\n",
       "  <tbody>\n",
       "    <tr>\n",
       "      <th>0</th>\n",
       "      <td>Afghanistan</td>\n",
       "      <td>643.28</td>\n",
       "      <td>628.66</td>\n",
       "      <td>1027.06</td>\n",
       "      <td>1041.68</td>\n",
       "      <td>1019.74</td>\n",
       "      <td>1100.16</td>\n",
       "      <td>1114.77</td>\n",
       "      <td>1250.01</td>\n",
       "      <td>1271.94</td>\n",
       "      <td>...</td>\n",
       "      <td>1436.42</td>\n",
       "      <td>1462.00</td>\n",
       "      <td>1487.58</td>\n",
       "      <td>1513.17</td>\n",
       "      <td>1542.41</td>\n",
       "      <td>1568.00</td>\n",
       "      <td>1597.24</td>\n",
       "      <td>1626.48</td>\n",
       "      <td>1655.72</td>\n",
       "      <td>1684.96</td>\n",
       "    </tr>\n",
       "    <tr>\n",
       "      <th>1</th>\n",
       "      <td>Angola</td>\n",
       "      <td>2693.74</td>\n",
       "      <td>2653.53</td>\n",
       "      <td>2613.33</td>\n",
       "      <td>2573.12</td>\n",
       "      <td>2532.92</td>\n",
       "      <td>2492.71</td>\n",
       "      <td>2456.16</td>\n",
       "      <td>2419.61</td>\n",
       "      <td>2379.40</td>\n",
       "      <td>...</td>\n",
       "      <td>2280.72</td>\n",
       "      <td>2335.54</td>\n",
       "      <td>2394.02</td>\n",
       "      <td>2452.50</td>\n",
       "      <td>2510.98</td>\n",
       "      <td>2573.12</td>\n",
       "      <td>2635.26</td>\n",
       "      <td>2701.04</td>\n",
       "      <td>2766.84</td>\n",
       "      <td>2836.28</td>\n",
       "    </tr>\n",
       "    <tr>\n",
       "      <th>2</th>\n",
       "      <td>Albania</td>\n",
       "      <td>2942.28</td>\n",
       "      <td>2953.24</td>\n",
       "      <td>2964.20</td>\n",
       "      <td>3088.48</td>\n",
       "      <td>3216.40</td>\n",
       "      <td>3351.64</td>\n",
       "      <td>3453.98</td>\n",
       "      <td>3559.97</td>\n",
       "      <td>3655.00</td>\n",
       "      <td>...</td>\n",
       "      <td>9356.80</td>\n",
       "      <td>9539.55</td>\n",
       "      <td>9722.30</td>\n",
       "      <td>9941.60</td>\n",
       "      <td>10124.35</td>\n",
       "      <td>10343.65</td>\n",
       "      <td>10526.40</td>\n",
       "      <td>10745.70</td>\n",
       "      <td>10965.00</td>\n",
       "      <td>11184.30</td>\n",
       "    </tr>\n",
       "    <tr>\n",
       "      <th>3</th>\n",
       "      <td>Andorra</td>\n",
       "      <td>19481.15</td>\n",
       "      <td>19590.80</td>\n",
       "      <td>19663.90</td>\n",
       "      <td>21308.65</td>\n",
       "      <td>22478.25</td>\n",
       "      <td>24634.70</td>\n",
       "      <td>26498.75</td>\n",
       "      <td>26973.90</td>\n",
       "      <td>25731.20</td>\n",
       "      <td>...</td>\n",
       "      <td>22989.95</td>\n",
       "      <td>23209.25</td>\n",
       "      <td>23428.55</td>\n",
       "      <td>23647.85</td>\n",
       "      <td>23903.70</td>\n",
       "      <td>24123.00</td>\n",
       "      <td>24342.30</td>\n",
       "      <td>24561.60</td>\n",
       "      <td>24780.90</td>\n",
       "      <td>24963.65</td>\n",
       "    </tr>\n",
       "    <tr>\n",
       "      <th>4</th>\n",
       "      <td>UAE</td>\n",
       "      <td>39108.50</td>\n",
       "      <td>38377.50</td>\n",
       "      <td>37646.50</td>\n",
       "      <td>39474.00</td>\n",
       "      <td>41667.00</td>\n",
       "      <td>40936.00</td>\n",
       "      <td>39474.00</td>\n",
       "      <td>33991.50</td>\n",
       "      <td>29495.85</td>\n",
       "      <td>...</td>\n",
       "      <td>34430.10</td>\n",
       "      <td>34503.20</td>\n",
       "      <td>34612.85</td>\n",
       "      <td>34685.95</td>\n",
       "      <td>34759.05</td>\n",
       "      <td>34868.70</td>\n",
       "      <td>34941.80</td>\n",
       "      <td>35014.90</td>\n",
       "      <td>35088.00</td>\n",
       "      <td>35161.10</td>\n",
       "    </tr>\n",
       "  </tbody>\n",
       "</table>\n",
       "<p>5 rows × 52 columns</p>\n",
       "</div>"
      ],
      "text/plain": [
       "       country      2000      2001      2002      2003      2004      2005  \\\n",
       "0  Afghanistan    643.28    628.66   1027.06   1041.68   1019.74   1100.16   \n",
       "1       Angola   2693.74   2653.53   2613.33   2573.12   2532.92   2492.71   \n",
       "2      Albania   2942.28   2953.24   2964.20   3088.48   3216.40   3351.64   \n",
       "3      Andorra  19481.15  19590.80  19663.90  21308.65  22478.25  24634.70   \n",
       "4          UAE  39108.50  38377.50  37646.50  39474.00  41667.00  40936.00   \n",
       "\n",
       "       2006      2007      2008  ...      2041      2042      2043      2044  \\\n",
       "0   1114.77   1250.01   1271.94  ...   1436.42   1462.00   1487.58   1513.17   \n",
       "1   2456.16   2419.61   2379.40  ...   2280.72   2335.54   2394.02   2452.50   \n",
       "2   3453.98   3559.97   3655.00  ...   9356.80   9539.55   9722.30   9941.60   \n",
       "3  26498.75  26973.90  25731.20  ...  22989.95  23209.25  23428.55  23647.85   \n",
       "4  39474.00  33991.50  29495.85  ...  34430.10  34503.20  34612.85  34685.95   \n",
       "\n",
       "       2045      2046      2047      2048      2049      2050  \n",
       "0   1542.41   1568.00   1597.24   1626.48   1655.72   1684.96  \n",
       "1   2510.98   2573.12   2635.26   2701.04   2766.84   2836.28  \n",
       "2  10124.35  10343.65  10526.40  10745.70  10965.00  11184.30  \n",
       "3  23903.70  24123.00  24342.30  24561.60  24780.90  24963.65  \n",
       "4  34759.05  34868.70  34941.80  35014.90  35088.00  35161.10  \n",
       "\n",
       "[5 rows x 52 columns]"
      ]
     },
     "execution_count": 113,
     "metadata": {},
     "output_type": "execute_result"
    }
   ],
   "source": [
    "df_income.head()"
   ]
  },
  {
   "cell_type": "code",
   "execution_count": 115,
   "metadata": {},
   "outputs": [],
   "source": [
    "df_income.fillna(method='ffill', inplace=True)"
   ]
  },
  {
   "cell_type": "code",
   "execution_count": 117,
   "metadata": {},
   "outputs": [
    {
     "data": {
      "text/plain": [
       "0"
      ]
     },
     "execution_count": 117,
     "metadata": {},
     "output_type": "execute_result"
    }
   ],
   "source": [
    "df_income.isnull().sum().sum()"
   ]
  },
  {
   "cell_type": "code",
   "execution_count": 158,
   "metadata": {},
   "outputs": [],
   "source": [
    "df_income.columns = df_income.columns.astype(str)\n",
    "\n",
    "df_income.iloc[:, 1:] = df_income.iloc[:, 1:].apply(pd.to_numeric, errors='coerce')"
   ]
  },
  {
   "cell_type": "markdown",
   "metadata": {},
   "source": [
    "**Part of the EDA requirement was creating sdt variable and print standard deviation, didnt do it since std included in below .describe (apologize I still have data cluttering anxiety, want to keep maximum clean)**"
   ]
  },
  {
   "cell_type": "code",
   "execution_count": 119,
   "metadata": {},
   "outputs": [
    {
     "name": "stdout",
     "output_type": "stream",
     "text": [
      "\n",
      "Summary of Annual Income statistics:\n",
      "               2000          2001          2002          2003          2004  \\\n",
      "count    195.000000    195.000000    195.000000    195.000000    195.000000   \n",
      "mean    6113.171077   6201.879231   6294.048615   6418.783590   6682.408359   \n",
      "std     7133.820261   7168.091485   7228.227714   7356.624703   7694.035669   \n",
      "min      355.630000    339.920000    341.380000    351.610000    365.500000   \n",
      "25%     1405.350000   1474.795000   1502.210000   1542.410000   1586.270000   \n",
      "50%     3216.400000   3329.700000   3293.160000   3406.460000   3505.140000   \n",
      "75%     6962.775000   6725.200000   7035.875000   7200.350000   7547.575000   \n",
      "max    39108.500000  38377.500000  37646.500000  39474.000000  41667.000000   \n",
      "\n",
      "               2005          2006          2007          2008          2009  \\\n",
      "count    195.000000    195.000000    195.000000    195.000000    195.000000   \n",
      "mean    6862.627641   7087.701282   7328.144051   7395.189385   7266.271179   \n",
      "std     7796.828864   7960.684804   8051.990928   7926.959393   7662.527268   \n",
      "min      398.400000    434.940000    475.150000    519.010000    566.520000   \n",
      "25%     1611.855000   1630.130000   1635.615000   1705.055000   1726.990000   \n",
      "50%     3647.690000   3801.200000   3947.400000   4020.500000   4057.050000   \n",
      "75%     7986.175000   8406.500000   8936.475000   9484.725000   9046.125000   \n",
      "max    40936.000000  40570.500000  39474.000000  39474.000000  39108.500000   \n",
      "\n",
      "       ...          2041          2042          2043          2044  \\\n",
      "count  ...    195.000000    195.000000    195.000000    195.000000   \n",
      "mean   ...  11116.654359  11249.284103  11381.520103  11522.040615   \n",
      "std    ...  10251.604540  10277.559810  10298.210852  10341.314219   \n",
      "min    ...    793.140000    807.760000    822.380000    837.000000   \n",
      "25%    ...   3291.330000   3366.255000   3444.835000   3527.070000   \n",
      "50%    ...   6944.500000   7127.250000   7310.000000   7492.750000   \n",
      "75%    ...  17288.150000  17507.450000  17726.750000  17946.050000   \n",
      "max    ...  49708.000000  49342.500000  48977.000000  48977.000000   \n",
      "\n",
      "               2045          2046          2047          2048          2049  \\\n",
      "count    195.000000    195.000000    195.000000    195.000000    195.000000   \n",
      "mean   11659.468718  11797.833846  11937.586308  12079.849897  12219.827128   \n",
      "std    10368.030426  10399.235660  10424.803391  10455.419840  10480.936280   \n",
      "min      851.620000    866.240000    880.860000    899.130000    913.750000   \n",
      "25%     3609.315000   3691.550000   3782.925000   3874.300000   3947.400000   \n",
      "50%     7675.500000   7858.250000   8041.000000   8260.300000   8443.050000   \n",
      "75%    18165.350000  18384.650000  18603.950000  18804.975000  19024.275000   \n",
      "max    48611.500000  48611.500000  48246.000000  48246.000000  47880.500000   \n",
      "\n",
      "               2050  \n",
      "count    195.000000  \n",
      "mean   12364.846205  \n",
      "std    10510.545968  \n",
      "min      932.020000  \n",
      "25%     4057.050000  \n",
      "50%     8662.350000  \n",
      "75%    19243.575000  \n",
      "max    47880.500000  \n",
      "\n",
      "[8 rows x 51 columns]\n"
     ]
    }
   ],
   "source": [
    "print(\"\\nSummary of Annual Income statistics:\")\n",
    "print(df_income.describe())"
   ]
  },
  {
   "cell_type": "markdown",
   "metadata": {},
   "source": [
    "### Data Dictionary\n",
    "\n",
    "Now that we've fixed our data, and given it appropriate names, let's create a [data dictionary](http://library.ucmerced.edu/node/10249). \n",
    "\n",
    "A data dictionary provides a quick overview of features/variables/columns, alongside data types and descriptions. The more descriptive you can be, the more useful this document is.\n",
    "\n",
    "Example of a Fictional Data Dictionary Entry: \n",
    "\n",
    "|Feature|Type|Dataset|Description|\n",
    "|---|---|---|---|\n",
    "|**county_pop**|*integer*|2010 census|The population of the county (units in thousands, where 2.5 represents 2500 people).| \n",
    "|**per_poverty**|*float*|2010 census|The percent of the county over the age of 18 living below the 200% of official US poverty rate (units percent to two decimal places 98.10 means 98.1%)|\n",
    "\n",
    "[Here's a quick link to a short guide for formatting markdown in Jupyter notebooks](https://jupyter-notebook.readthedocs.io/en/stable/examples/Notebook/Working%20With%20Markdown%20Cells.html).\n",
    "\n",
    "Provided is the skeleton for formatting a markdown table, with columns headers that will help you create a data dictionary to quickly summarize your data, as well as some examples. **This would be a great thing to copy and paste into your custom README for this project.**\n",
    "\n",
    "*Note*: if you are unsure of what a feature is, check the source of the data! This can be found in the README."
   ]
  },
  {
   "cell_type": "markdown",
   "metadata": {},
   "source": [
    "**Below STD calculation for past decade for each dataframe separately**"
   ]
  },
  {
   "cell_type": "markdown",
   "metadata": {},
   "source": [
    "## Exploratory Data Analysis\n",
    "\n",
    "Complete the following steps to explore your data. You are welcome to do more EDA than the steps outlined here as you feel necessary:\n",
    "1. Summary Statistics.\n",
    "2. Use a **dictionary comprehension** to apply the standard deviation function you create in part 1 to each numeric column in one of your dataframes.  **No loops**.\n",
    "    - Assign the output to variable `sd` as a dictionary where: \n",
    "        - Each column name is now a key \n",
    "        - That standard deviation of the column is the value\n",
    "        - *Example Output :* `{'1801': 3.80, '1802': 3.93, ...}`\n",
    "3. Investigate trends in the data.\n",
    "    - Using sorting and/or masking (along with the `.head()` method to avoid printing our entire dataframe), consider questions relevant to your problem statement. Some examples are provided below (but feel free to change these questions for your specific problem):\n",
    "        - Which states have the highest and lowest populations for the past few decades?\n",
    "        - Which states have the highest and lowest economic growth over the course of the dataset?\n",
    "        - What years were there new countries created?\n",
    "        - Do any countries have higher growth rates of population than their economy?\n",
    "        - Which countries have had the lowest population growth?\n",
    "    - **You should comment on your findings at each step in a markdown cell below your code block**. Make sure you include at least one example of sorting your dataframe by a column, and one example of using boolean filtering (i.e., masking) to select a subset of the dataframe."
   ]
  },
  {
   "cell_type": "markdown",
   "metadata": {},
   "source": []
  },
  {
   "cell_type": "code",
   "execution_count": 152,
   "metadata": {},
   "outputs": [],
   "source": [
    "highest_population = df_people[['country', '2050']].sort_values(by='2050', ascending=False).head(5) #Sorting from most to least\n",
    "lowest_population = df_people[['country', '2050']].sort_values(by='2050', ascending=True).head(5)   #Sorting from least to most"
   ]
  },
  {
   "cell_type": "code",
   "execution_count": 148,
   "metadata": {},
   "outputs": [],
   "source": [
    "df_people['growth_rate'] = (df_people['2050'] - df_people['2000']) / df_people['2000'] * 100\n",
    "# Growth rate calculator with expected population minus 2000 population in percentages"
   ]
  },
  {
   "cell_type": "code",
   "execution_count": 149,
   "metadata": {},
   "outputs": [],
   "source": [
    "highest_growth = df_people[['country', 'growth_rate']].sort_values(by='growth_rate', ascending=False).head(5)\n",
    "lowest_growth = df_people[['country', 'growth_rate']].sort_values(by='growth_rate', ascending=True).head(5)"
   ]
  },
  {
   "cell_type": "code",
   "execution_count": 150,
   "metadata": {},
   "outputs": [],
   "source": [
    "new_countries = df_people.set_index('country').notna().idxmax(axis=1).reset_index()\n",
    "new_countries.columns = ['country', 'first_appearance']"
   ]
  },
  {
   "cell_type": "code",
   "execution_count": 151,
   "metadata": {},
   "outputs": [
    {
     "name": "stdout",
     "output_type": "stream",
     "text": [
      "\n",
      " Top 5 Countries with Highest Population in 2050:\n",
      "            country    2050\n",
      "79           India  1670.0\n",
      "32           China  1310.0\n",
      "128        Nigeria   377.0\n",
      "186  United States   375.0\n",
      "136       Pakistan   368.0\n",
      "\n",
      " Top 5 Countries with Lowest Population in 2050:\n",
      "            country  2050\n",
      "133          Nauru  0.01\n",
      "180         Tuvalu  0.01\n",
      "140          Palau  0.02\n",
      "158     San Marino  0.03\n",
      "102  Liechtenstein  0.04\n",
      "\n",
      " Top 5 Fastest Growing Countries (Population Growth %):\n",
      "               country  growth_rate\n",
      "127             Niger   477.586207\n",
      "147             Qatar   416.923077\n",
      "35   Congo, Dem. Rep.   346.502058\n",
      "170              Chad   341.888620\n",
      "1              Angola   340.853659\n",
      "\n",
      " Bottom 5 Slowest Growing Countries (Population Growth %):\n",
      "                     country  growth_rate\n",
      "107                  Latvia   -40.167364\n",
      "105               Lithuania   -39.166667\n",
      "16                 Bulgaria   -35.925926\n",
      "19   Bosnia and Herzegovina   -34.449761\n",
      "184                 Ukraine   -32.719836\n",
      "\n",
      " New Countries (First Appeared in Dataset):\n",
      "                   country first_appearance\n",
      "0             Afghanistan             2000\n",
      "1                  Angola             2000\n",
      "2                 Albania             2000\n",
      "3                 Andorra             2000\n",
      "4    United Arab Emirates             2000\n",
      "..                    ...              ...\n",
      "191                 Samoa             2000\n",
      "192                 Yemen             2000\n",
      "193          South Africa             2000\n",
      "194                Zambia             2000\n",
      "195              Zimbabwe             2000\n",
      "\n",
      "[196 rows x 2 columns]\n"
     ]
    }
   ],
   "source": [
    "print(\"\\n Top 5 Countries with Highest Population in 2050:\\n\", highest_population)\n",
    "print(\"\\n Top 5 Countries with Lowest Population in 2050:\\n\", lowest_population)\n",
    "print(\"\\n Top 5 Fastest Growing Countries (Population Growth %):\\n\", highest_growth)\n",
    "print(\"\\n Bottom 5 Slowest Growing Countries (Population Growth %):\\n\", lowest_growth)\n",
    "print(\"\\n New Countries (First Appeared in Dataset):\\n\", new_countries)\n"
   ]
  },
  {
   "cell_type": "markdown",
   "metadata": {},
   "source": [
    "#### 🌍 Top 5 Countries with the Highest Population in 2050\n",
    "**India** is projected to be the most populous country with 1.67 billion people, surpassing China.\n",
    "**China** follows with a population of 1.31 billion, indicating slower growth compared to previous decades.\n",
    "**Nigeria** emerges as the most populous African nation with a population of 377 million, reflecting rapid growth.\n",
    "**The United States** is expected to have 375 million people, maintaining its position as a leading global power.\n",
    "**Pakistan** reaches 368 million, highlighting continued population expansion in South Asia.\n",
    "\n",
    "**Key Insight:** India is set to overtake China as the world's most populous country by 2050, while Nigeria leads Africa’s population boom."
   ]
  },
  {
   "cell_type": "markdown",
   "metadata": {},
   "source": [
    "#### 📈 Top 5 Fastest Growing Countries (2000 - 2050)\n",
    "\n",
    "**Niger** leads the world in population growth, expanding by 477.6%.\n",
    "**Qatar** follows with a 416.9% increase, likely driven by economic migration.\n",
    "**Democratic Republic of the Congo** sees a 346.5% rise, reflecting Africa’s rapid demographic expansion.\n",
    "**Chad** and **Angola** experience similar surges, each growing by ~341%.\n",
    "\n",
    "**Key Insight:** African nations dominate population growth, while Qatar’s rapid increase is fueled by immigration and economic factors."
   ]
  },
  {
   "cell_type": "markdown",
   "metadata": {},
   "source": [
    "**To-Do:** *Edit this cell with your findings on trends in the data (step 3 above).*"
   ]
  },
  {
   "cell_type": "markdown",
   "metadata": {},
   "source": []
  },
  {
   "cell_type": "markdown",
   "metadata": {},
   "source": [
    "## Visualize the Data\n",
    "\n",
    "There's not a magic bullet recommendation for the right number of plots to understand a given dataset, but visualizing your data is *always* a good idea. Not only does it allow you to quickly convey your findings (even if you have a non-technical audience), it will often reveal trends in your data that escaped you when you were looking only at numbers. It is important to not only create visualizations, but to **interpret your visualizations** as well.\n",
    "\n",
    "**Every plot should**:\n",
    "- Have a title\n",
    "- Have axis labels\n",
    "- Have appropriate tick labels\n",
    "- Text is legible in a plot\n",
    "- Plots demonstrate meaningful and valid relationships\n",
    "- Have an interpretation to aid understanding\n",
    "\n",
    "Here is an example of what your plots should look like following the above guidelines. Note that while the content of this example is unrelated, the principles of visualization hold:\n",
    "\n",
    "![](https://snag.gy/hCBR1U.jpg)\n",
    "*Interpretation: The above image shows that as we increase our spending on advertising, our sales numbers also tend to increase. There is a positive correlation between advertising spending and sales.*\n",
    "\n",
    "---\n",
    "\n",
    "Here are some prompts to get you started with visualizations. Feel free to add additional visualizations as you see fit:\n",
    "1. Use Seaborn's heatmap with pandas `.corr()` to visualize correlations between all numeric features.\n",
    "    - Heatmaps are generally not appropriate for presentations, and should often be excluded from reports as they can be visually overwhelming. **However**, they can be extremely useful in identify relationships of potential interest (as well as identifying potential collinearity before modeling).\n",
    "    - Please take time to format your output, adding a title. Look through some of the additional arguments and options. (Axis labels aren't really necessary, as long as the title is informative).\n",
    "2. Visualize distributions using histograms. If you have a lot, consider writing a custom function and use subplots.\n",
    "    - *OPTIONAL*: Summarize the underlying distributions of your features (in words & statistics)\n",
    "         - Be thorough in your verbal description of these distributions.\n",
    "         - Be sure to back up these summaries with statistics.\n",
    "         - We generally assume that data we sample from a population will be normally distributed. Do we observe this trend? Explain your answers for each distribution and how you think this will affect estimates made from these data.\n",
    "3. Plot and interpret boxplots. \n",
    "    - Boxplots demonstrate central tendency and spread in variables. In a certain sense, these are somewhat redundant with histograms, but you may be better able to identify clear outliers or differences in IQR, etc.\n",
    "    - Multiple values can be plotted to a single boxplot as long as they are of the same relative scale (meaning they have similar min/max values).\n",
    "    - Each boxplot should:\n",
    "        - Only include variables of a similar scale\n",
    "        - Have clear labels for each variable\n",
    "        - Have appropriate titles and labels\n",
    "4. Plot and interpret scatter plots to view relationships between features. Feel free to write a custom function, and subplot if you'd like. Functions save both time and space.\n",
    "    - Your plots should have:\n",
    "        - Two clearly labeled axes\n",
    "        - A proper title\n",
    "        - Colors and symbols that are clear and unmistakable\n",
    "5. Additional plots of your choosing.\n",
    "    - Are there any additional trends or relationships you haven't explored? Was there something interesting you saw that you'd like to dive further into? It's likely that there are a few more plots you might want to generate to support your narrative and recommendations that you are building toward. **As always, make sure you're interpreting your plots as you go**."
   ]
  },
  {
   "cell_type": "markdown",
   "metadata": {},
   "source": [
    "\n",
    "**2000-2050 Population Growth in USA, China and India.** In Y axis 400 stands for 400M and so on."
   ]
  },
  {
   "cell_type": "code",
   "execution_count": 173,
   "metadata": {},
   "outputs": [
    {
     "data": {
      "image/png": "[encoded data removed]",
      "text/plain": [
       "<Figure size 864x432 with 1 Axes>"
      ]
     },
     "metadata": {
      "needs_background": "light"
     },
     "output_type": "display_data"
    }
   ],
   "source": [
    "plt.figure(figsize=(12,6))\n",
    "\n",
    "for country in [\"India\", \"China\", \"United States\"]:\n",
    "    plt.plot(years, df_people[df_people[\"country\"] == country][years].values.flatten(), label=country, marker=\"o\")\n",
    "\n",
    "plt.title(\"Population Growth of Selected Countries (2000 - 2050)\")\n",
    "plt.xlabel(\"Year\")\n",
    "plt.ylabel(\"Population\")\n",
    "plt.legend()\n",
    "plt.savefig(\"../5.Images/population_growth_china_us_india_2020_2050\", dpi=300, bbox_inches='tight')\n",
    "plt.show()\n",
    "\n",
    "\n",
    "\n"
   ]
  },
  {
   "cell_type": "markdown",
   "metadata": {},
   "source": [
    "**Scatter Plot - Income Vs Life Expectancy** *In above Scatter Plot we cleary can see this is positive linear(not perfectly linear) regression meaning Increasing imncome positively reflecting on life expectancy of both industrial and developing countries.*"
   ]
  },
  {
   "cell_type": "code",
   "execution_count": 172,
   "metadata": {},
   "outputs": [
    {
     "data": {
      "image/png": "[encoded data removed]",
      "text/plain": [
       "<Figure size 720x432 with 1 Axes>"
      ]
     },
     "metadata": {
      "needs_background": "light"
     },
     "output_type": "display_data"
    }
   ],
   "source": [
    "plt.figure(figsize=(10,6))\n",
    "sns.scatterplot(x=df_income[\"2025\"], y=df_life[\"2025\"])\n",
    "plt.xlabel(\"Income Per Capita (2025)\")\n",
    "plt.ylabel(\"Life Expectancy (2025)\")\n",
    "plt.title(\"Income Per Capita vs Life Expectancy (2025)\")\n",
    "plt.savefig(\"../5.Images/income_per_capita_vs_lifeexpectancy\", dpi=300, bbox_inches='tight')\n",
    "plt.show()\n"
   ]
  },
  {
   "cell_type": "code",
   "execution_count": null,
   "metadata": {},
   "outputs": [],
   "source": []
  },
  {
   "cell_type": "markdown",
   "metadata": {},
   "source": [
    "**This histogram doesnt give us much information, however the reason I kept it is to see widest age bins which in this case are 69-71 & 75-77. Majority countries having life expectency falling into that bin**"
   ]
  },
  {
   "cell_type": "code",
   "execution_count": 174,
   "metadata": {},
   "outputs": [
    {
     "data": {
      "image/png": "[encoded data removed]",
      "text/plain": [
       "<Figure size 720x432 with 1 Axes>"
      ]
     },
     "metadata": {
      "needs_background": "light"
     },
     "output_type": "display_data"
    }
   ],
   "source": [
    "plt.figure(figsize=(10,6))\n",
    "df_life.iloc[:, 1:].mean().plot(kind=\"hist\", bins=30, color=\"green\", alpha=0.7)\n",
    "plt.title(\"Distribution of Life Expectancy Over Time\")\n",
    "plt.xlabel(\"Life Expectancy (Years)\")\n",
    "plt.ylabel(\"Frequency\")\n",
    "plt.savefig(\"../5.Images/life_expectancy_bins_per_group_of_countries\", dpi=300, bbox_inches='tight')\n",
    "plt.show()\n"
   ]
  },
  {
   "cell_type": "code",
   "execution_count": null,
   "metadata": {},
   "outputs": [],
   "source": []
  },
  {
   "cell_type": "code",
   "execution_count": null,
   "metadata": {},
   "outputs": [],
   "source": []
  },
  {
   "cell_type": "code",
   "execution_count": null,
   "metadata": {},
   "outputs": [],
   "source": []
  },
  {
   "cell_type": "code",
   "execution_count": null,
   "metadata": {},
   "outputs": [],
   "source": [
    "\n"
   ]
  },
  {
   "cell_type": "markdown",
   "metadata": {},
   "source": [
    "## Conclusions and Recommendations\n",
    "\n",
    "**Global population growth is slowing, while African nations expand and Eastern Europe faces decline. Economic growth varies, with resource-rich nations like Qatar and UAE experiencing strong income gains, while Eastern Europe struggles with stagnation and depopulation. Life expectancy disparities persist, with developed nations averaging 75-80 years, while parts of Sub-Saharan Africa remain below 65 due to healthcare challenges. Former Soviet states are expected to see continued population decline, and no new nations have emerged post-2000, indicating political stability but potential future geopolitical shifts.**"
   ]
  },
  {
   "cell_type": "markdown",
   "metadata": {},
   "source": [
    "Based on your exploration of the data, what are you key takeaways and recommendations? Make sure to answer your question of interest or address your problem statement here."
   ]
  }
 ],
 "metadata": {
  "anaconda-cloud": {},
  "kernelspec": {
   "display_name": "Python 3",
   "language": "python",
   "name": "python3"
  },
  "language_info": {
   "codemirror_mode": {
    "name": "ipython",
    "version": 3
   },
   "file_extension": ".py",
   "mimetype": "text/x-python",
   "name": "python",
   "nbconvert_exporter": "python",
   "pygments_lexer": "ipython3",
   "version": "3.8.5"
  }
 },
 "nbformat": 4,
 "nbformat_minor": 4
}
